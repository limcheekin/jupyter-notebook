{
 "cells": [
  {
   "cell_type": "markdown",
   "metadata": {},
   "source": [
    "## Asking the Right Question\n",
    "Use the Machine Learning Workflow to process and transform DOT data to create a prediction model. This model must predict whether a flight would arrive 15+ minutes after the scheduled arrival time with 70+% accuracy."
   ]
  },
  {
   "cell_type": "markdown",
   "metadata": {},
   "source": [
    "## Preparing Data"
   ]
  },
  {
   "cell_type": "markdown",
   "metadata": {},
   "source": [
    "### Getting Data\n",
    "Download 2015 January raw data in csv file from the following URL:\n",
    "http://www.transtats.bts.gov/DL_SelectFields.asp?Table_ID=236&DB_Short_Name=On-Time\n",
    "\n",
    "The downloaded data stored in [raw_201501.csv](data/raw_201501.csv)."
   ]
  },
  {
   "cell_type": "markdown",
   "metadata": {},
   "source": [
    "### Loading Data"
   ]
  },
  {
   "cell_type": "code",
   "execution_count": 1,
   "metadata": {
    "collapsed": false
   },
   "outputs": [
    {
     "data": {
      "text/html": [
       "469968"
      ],
      "text/latex": [
       "469968"
      ],
      "text/markdown": [
       "469968"
      ],
      "text/plain": [
       "[1] 469968"
      ]
     },
     "metadata": {},
     "output_type": "display_data"
    }
   ],
   "source": [
    "origData <- read.csv2('.\\\\data\\\\raw_201501.csv', sep=\",\", header=TRUE, stringsAsFactors = FALSE)\n",
    "nrow(origData)"
   ]
  },
  {
   "cell_type": "markdown",
   "metadata": {},
   "source": [
    "use the subset of data from major airports only"
   ]
  },
  {
   "cell_type": "code",
   "execution_count": 2,
   "metadata": {
    "collapsed": false
   },
   "outputs": [
    {
     "data": {
      "text/html": [
       "32716"
      ],
      "text/latex": [
       "32716"
      ],
      "text/markdown": [
       "32716"
      ],
      "text/plain": [
       "[1] 32716"
      ]
     },
     "metadata": {},
     "output_type": "display_data"
    }
   ],
   "source": [
    "airports <- c('ATL', 'LAX', 'ORD', 'DFW', 'JFK', 'SFO', 'CLT', 'LAS', 'PHX')\n",
    "filteredData <- subset(origData, DEST %in% airports & ORIGIN %in% airports)\n",
    "nrow(filteredData)"
   ]
  },
  {
   "cell_type": "markdown",
   "metadata": {},
   "source": [
    "### Cleaning Data"
   ]
  },
  {
   "cell_type": "code",
   "execution_count": 3,
   "metadata": {
    "collapsed": false
   },
   "outputs": [
    {
     "data": {
      "text/html": [
       "<table>\n",
       "<thead><tr><th scope=col>DAY_OF_MONTH</th><th scope=col>DAY_OF_WEEK</th><th scope=col>UNIQUE_CARRIER</th><th scope=col>AIRLINE_ID</th><th scope=col>CARRIER</th><th scope=col>TAIL_NUM</th><th scope=col>FL_NUM</th><th scope=col>ORIGIN_AIRPORT_ID</th><th scope=col>ORIGIN_AIRPORT_SEQ_ID</th><th scope=col>ORIGIN</th><th scope=col>...</th><th scope=col>DEST</th><th scope=col>DEP_TIME</th><th scope=col>DEP_DEL15</th><th scope=col>DEP_TIME_BLK</th><th scope=col>ARR_TIME</th><th scope=col>ARR_DEL15</th><th scope=col>CANCELLED</th><th scope=col>DIVERTED</th><th scope=col>DISTANCE</th><th scope=col>X</th></tr></thead>\n",
       "<tbody>\n",
       "\t<tr><td>1        </td><td>4        </td><td>AA       </td><td>19805    </td><td>AA       </td><td>N787AA   </td><td>1        </td><td>12478    </td><td>1247802  </td><td>JFK      </td><td>...      </td><td>LAX      </td><td>855      </td><td>0.00     </td><td>0900-0959</td><td>1237     </td><td>0.00     </td><td>0.00     </td><td>0.00     </td><td>2475.00  </td><td>NA       </td></tr>\n",
       "\t<tr><td>1        </td><td>4        </td><td>AA       </td><td>19805    </td><td>AA       </td><td>N795AA   </td><td>2        </td><td>12892    </td><td>1289203  </td><td>LAX      </td><td>...      </td><td>JFK      </td><td>856      </td><td>0.00     </td><td>0900-0959</td><td>1651     </td><td>0.00     </td><td>0.00     </td><td>0.00     </td><td>2475.00  </td><td>NA       </td></tr>\n",
       "</tbody>\n",
       "</table>\n"
      ],
      "text/latex": [
       "\\begin{tabular}{r|llllllllllllllllllllll}\n",
       " DAY\\_OF\\_MONTH & DAY\\_OF\\_WEEK & UNIQUE\\_CARRIER & AIRLINE\\_ID & CARRIER & TAIL\\_NUM & FL\\_NUM & ORIGIN\\_AIRPORT\\_ID & ORIGIN\\_AIRPORT\\_SEQ\\_ID & ORIGIN & ... & DEST & DEP\\_TIME & DEP\\_DEL15 & DEP\\_TIME\\_BLK & ARR\\_TIME & ARR\\_DEL15 & CANCELLED & DIVERTED & DISTANCE & X\\\\\n",
       "\\hline\n",
       "\t 1         & 4         & AA        & 19805     & AA        & N787AA    & 1         & 12478     & 1247802   & JFK       & ...       & LAX       & 855       & 0.00      & 0900-0959 & 1237      & 0.00      & 0.00      & 0.00      & 2475.00   & NA       \\\\\n",
       "\t 1         & 4         & AA        & 19805     & AA        & N795AA    & 2         & 12892     & 1289203   & LAX       & ...       & JFK       & 856       & 0.00      & 0900-0959 & 1651      & 0.00      & 0.00      & 0.00      & 2475.00   & NA       \\\\\n",
       "\\end{tabular}\n"
      ],
      "text/plain": [
       "  DAY_OF_MONTH DAY_OF_WEEK UNIQUE_CARRIER AIRLINE_ID CARRIER TAIL_NUM FL_NUM\n",
       "1 1            4           AA             19805      AA      N787AA   1     \n",
       "2 1            4           AA             19805      AA      N795AA   2     \n",
       "  ORIGIN_AIRPORT_ID ORIGIN_AIRPORT_SEQ_ID ORIGIN ... DEST DEP_TIME DEP_DEL15\n",
       "1 12478             1247802               JFK    ... LAX  855      0.00     \n",
       "2 12892             1289203               LAX    ... JFK  856      0.00     \n",
       "  DEP_TIME_BLK ARR_TIME ARR_DEL15 CANCELLED DIVERTED DISTANCE X \n",
       "1 0900-0959    1237     0.00      0.00      0.00     2475.00  NA\n",
       "2 0900-0959    1651     0.00      0.00      0.00     2475.00  NA"
      ]
     },
     "metadata": {},
     "output_type": "display_data"
    }
   ],
   "source": [
    "head(filteredData, 2)"
   ]
  },
  {
   "cell_type": "code",
   "execution_count": 4,
   "metadata": {
    "collapsed": false
   },
   "outputs": [
    {
     "data": {
      "text/html": [
       "<table>\n",
       "<thead><tr><th></th><th scope=col>DAY_OF_MONTH</th><th scope=col>DAY_OF_WEEK</th><th scope=col>UNIQUE_CARRIER</th><th scope=col>AIRLINE_ID</th><th scope=col>CARRIER</th><th scope=col>TAIL_NUM</th><th scope=col>FL_NUM</th><th scope=col>ORIGIN_AIRPORT_ID</th><th scope=col>ORIGIN_AIRPORT_SEQ_ID</th><th scope=col>ORIGIN</th><th scope=col>...</th><th scope=col>DEST</th><th scope=col>DEP_TIME</th><th scope=col>DEP_DEL15</th><th scope=col>DEP_TIME_BLK</th><th scope=col>ARR_TIME</th><th scope=col>ARR_DEL15</th><th scope=col>CANCELLED</th><th scope=col>DIVERTED</th><th scope=col>DISTANCE</th><th scope=col>X</th></tr></thead>\n",
       "<tbody>\n",
       "\t<tr><th scope=row>469666</th><td>31       </td><td>6        </td><td>WN       </td><td>19393    </td><td>WN       </td><td>N659SW   </td><td>3841     </td><td>14771    </td><td>1477101  </td><td>SFO      </td><td>...      </td><td>PHX      </td><td>1109     </td><td>0.00     </td><td>1100-1159</td><td>1417     </td><td>0.00     </td><td>0.00     </td><td>0.00     </td><td>651.00   </td><td>NA       </td></tr>\n",
       "\t<tr><th scope=row>469667</th><td>31       </td><td>6        </td><td>WN       </td><td>19393    </td><td>WN       </td><td>N218WN   </td><td>4481     </td><td>14771    </td><td>1477101  </td><td>SFO      </td><td>...      </td><td>PHX      </td><td>1426     </td><td>0.00     </td><td>1400-1459</td><td>1721     </td><td>0.00     </td><td>0.00     </td><td>0.00     </td><td>651.00   </td><td>NA       </td></tr>\n",
       "</tbody>\n",
       "</table>\n"
      ],
      "text/latex": [
       "\\begin{tabular}{r|llllllllllllllllllllll}\n",
       "  & DAY\\_OF\\_MONTH & DAY\\_OF\\_WEEK & UNIQUE\\_CARRIER & AIRLINE\\_ID & CARRIER & TAIL\\_NUM & FL\\_NUM & ORIGIN\\_AIRPORT\\_ID & ORIGIN\\_AIRPORT\\_SEQ\\_ID & ORIGIN & ... & DEST & DEP\\_TIME & DEP\\_DEL15 & DEP\\_TIME\\_BLK & ARR\\_TIME & ARR\\_DEL15 & CANCELLED & DIVERTED & DISTANCE & X\\\\\n",
       "\\hline\n",
       "\t469666 & 31        & 6         & WN        & 19393     & WN        & N659SW    & 3841      & 14771     & 1477101   & SFO       & ...       & PHX       & 1109      & 0.00      & 1100-1159 & 1417      & 0.00      & 0.00      & 0.00      & 651.00    & NA       \\\\\n",
       "\t469667 & 31        & 6         & WN        & 19393     & WN        & N218WN    & 4481      & 14771     & 1477101   & SFO       & ...       & PHX       & 1426      & 0.00      & 1400-1459 & 1721      & 0.00      & 0.00      & 0.00      & 651.00    & NA       \\\\\n",
       "\\end{tabular}\n"
      ],
      "text/plain": [
       "       DAY_OF_MONTH DAY_OF_WEEK UNIQUE_CARRIER AIRLINE_ID CARRIER TAIL_NUM\n",
       "469666 31           6           WN             19393      WN      N659SW  \n",
       "469667 31           6           WN             19393      WN      N218WN  \n",
       "       FL_NUM ORIGIN_AIRPORT_ID ORIGIN_AIRPORT_SEQ_ID ORIGIN ... DEST DEP_TIME\n",
       "469666 3841   14771             1477101               SFO    ... PHX  1109    \n",
       "469667 4481   14771             1477101               SFO    ... PHX  1426    \n",
       "       DEP_DEL15 DEP_TIME_BLK ARR_TIME ARR_DEL15 CANCELLED DIVERTED DISTANCE X \n",
       "469666 0.00      1100-1159    1417     0.00      0.00      0.00     651.00   NA\n",
       "469667 0.00      1400-1459    1721     0.00      0.00      0.00     651.00   NA"
      ]
     },
     "metadata": {},
     "output_type": "display_data"
    }
   ],
   "source": [
    "tail(filteredData, 2)"
   ]
  },
  {
   "cell_type": "markdown",
   "metadata": {},
   "source": [
    "#### Remove unuse column"
   ]
  },
  {
   "cell_type": "markdown",
   "metadata": {},
   "source": [
    "X column always had value \"NA\", remove this column by set it to NULL"
   ]
  },
  {
   "cell_type": "code",
   "execution_count": 5,
   "metadata": {
    "collapsed": false
   },
   "outputs": [
    {
     "data": {
      "text/html": [
       "<table>\n",
       "<thead><tr><th></th><th scope=col>DAY_OF_MONTH</th><th scope=col>DAY_OF_WEEK</th><th scope=col>UNIQUE_CARRIER</th><th scope=col>AIRLINE_ID</th><th scope=col>CARRIER</th><th scope=col>TAIL_NUM</th><th scope=col>FL_NUM</th><th scope=col>ORIGIN_AIRPORT_ID</th><th scope=col>ORIGIN_AIRPORT_SEQ_ID</th><th scope=col>ORIGIN</th><th scope=col>...</th><th scope=col>DEST_AIRPORT_SEQ_ID</th><th scope=col>DEST</th><th scope=col>DEP_TIME</th><th scope=col>DEP_DEL15</th><th scope=col>DEP_TIME_BLK</th><th scope=col>ARR_TIME</th><th scope=col>ARR_DEL15</th><th scope=col>CANCELLED</th><th scope=col>DIVERTED</th><th scope=col>DISTANCE</th></tr></thead>\n",
       "<tbody>\n",
       "\t<tr><th scope=row>469666</th><td>31       </td><td>6        </td><td>WN       </td><td>19393    </td><td>WN       </td><td>N659SW   </td><td>3841     </td><td>14771    </td><td>1477101  </td><td>SFO      </td><td>...      </td><td>1410702  </td><td>PHX      </td><td>1109     </td><td>0.00     </td><td>1100-1159</td><td>1417     </td><td>0.00     </td><td>0.00     </td><td>0.00     </td><td>651.00   </td></tr>\n",
       "\t<tr><th scope=row>469667</th><td>31       </td><td>6        </td><td>WN       </td><td>19393    </td><td>WN       </td><td>N218WN   </td><td>4481     </td><td>14771    </td><td>1477101  </td><td>SFO      </td><td>...      </td><td>1410702  </td><td>PHX      </td><td>1426     </td><td>0.00     </td><td>1400-1459</td><td>1721     </td><td>0.00     </td><td>0.00     </td><td>0.00     </td><td>651.00   </td></tr>\n",
       "</tbody>\n",
       "</table>\n"
      ],
      "text/latex": [
       "\\begin{tabular}{r|lllllllllllllllllllll}\n",
       "  & DAY\\_OF\\_MONTH & DAY\\_OF\\_WEEK & UNIQUE\\_CARRIER & AIRLINE\\_ID & CARRIER & TAIL\\_NUM & FL\\_NUM & ORIGIN\\_AIRPORT\\_ID & ORIGIN\\_AIRPORT\\_SEQ\\_ID & ORIGIN & ... & DEST\\_AIRPORT\\_SEQ\\_ID & DEST & DEP\\_TIME & DEP\\_DEL15 & DEP\\_TIME\\_BLK & ARR\\_TIME & ARR\\_DEL15 & CANCELLED & DIVERTED & DISTANCE\\\\\n",
       "\\hline\n",
       "\t469666 & 31        & 6         & WN        & 19393     & WN        & N659SW    & 3841      & 14771     & 1477101   & SFO       & ...       & 1410702   & PHX       & 1109      & 0.00      & 1100-1159 & 1417      & 0.00      & 0.00      & 0.00      & 651.00   \\\\\n",
       "\t469667 & 31        & 6         & WN        & 19393     & WN        & N218WN    & 4481      & 14771     & 1477101   & SFO       & ...       & 1410702   & PHX       & 1426      & 0.00      & 1400-1459 & 1721      & 0.00      & 0.00      & 0.00      & 651.00   \\\\\n",
       "\\end{tabular}\n"
      ],
      "text/plain": [
       "       DAY_OF_MONTH DAY_OF_WEEK UNIQUE_CARRIER AIRLINE_ID CARRIER TAIL_NUM\n",
       "469666 31           6           WN             19393      WN      N659SW  \n",
       "469667 31           6           WN             19393      WN      N218WN  \n",
       "       FL_NUM ORIGIN_AIRPORT_ID ORIGIN_AIRPORT_SEQ_ID ORIGIN ...\n",
       "469666 3841   14771             1477101               SFO    ...\n",
       "469667 4481   14771             1477101               SFO    ...\n",
       "       DEST_AIRPORT_SEQ_ID DEST DEP_TIME DEP_DEL15 DEP_TIME_BLK ARR_TIME\n",
       "469666 1410702             PHX  1109     0.00      1100-1159    1417    \n",
       "469667 1410702             PHX  1426     0.00      1400-1459    1721    \n",
       "       ARR_DEL15 CANCELLED DIVERTED DISTANCE\n",
       "469666 0.00      0.00      0.00     651.00  \n",
       "469667 0.00      0.00      0.00     651.00  "
      ]
     },
     "metadata": {},
     "output_type": "display_data"
    },
    {
     "data": {
      "text/html": [
       "<table>\n",
       "<thead><tr><th scope=col>DAY_OF_MONTH</th><th scope=col>DAY_OF_WEEK</th><th scope=col>UNIQUE_CARRIER</th><th scope=col>AIRLINE_ID</th><th scope=col>CARRIER</th><th scope=col>TAIL_NUM</th><th scope=col>FL_NUM</th><th scope=col>ORIGIN_AIRPORT_ID</th><th scope=col>ORIGIN_AIRPORT_SEQ_ID</th><th scope=col>ORIGIN</th><th scope=col>...</th><th scope=col>DEST_AIRPORT_SEQ_ID</th><th scope=col>DEST</th><th scope=col>DEP_TIME</th><th scope=col>DEP_DEL15</th><th scope=col>DEP_TIME_BLK</th><th scope=col>ARR_TIME</th><th scope=col>ARR_DEL15</th><th scope=col>CANCELLED</th><th scope=col>DIVERTED</th><th scope=col>DISTANCE</th></tr></thead>\n",
       "<tbody>\n",
       "\t<tr><td>1        </td><td>4        </td><td>AA       </td><td>19805    </td><td>AA       </td><td>N787AA   </td><td>1        </td><td>12478    </td><td>1247802  </td><td>JFK      </td><td>...      </td><td>1289203  </td><td>LAX      </td><td>855      </td><td>0.00     </td><td>0900-0959</td><td>1237     </td><td>0.00     </td><td>0.00     </td><td>0.00     </td><td>2475.00  </td></tr>\n",
       "\t<tr><td>1        </td><td>4        </td><td>AA       </td><td>19805    </td><td>AA       </td><td>N795AA   </td><td>2        </td><td>12892    </td><td>1289203  </td><td>LAX      </td><td>...      </td><td>1247802  </td><td>JFK      </td><td>856      </td><td>0.00     </td><td>0900-0959</td><td>1651     </td><td>0.00     </td><td>0.00     </td><td>0.00     </td><td>2475.00  </td></tr>\n",
       "</tbody>\n",
       "</table>\n"
      ],
      "text/latex": [
       "\\begin{tabular}{r|lllllllllllllllllllll}\n",
       " DAY\\_OF\\_MONTH & DAY\\_OF\\_WEEK & UNIQUE\\_CARRIER & AIRLINE\\_ID & CARRIER & TAIL\\_NUM & FL\\_NUM & ORIGIN\\_AIRPORT\\_ID & ORIGIN\\_AIRPORT\\_SEQ\\_ID & ORIGIN & ... & DEST\\_AIRPORT\\_SEQ\\_ID & DEST & DEP\\_TIME & DEP\\_DEL15 & DEP\\_TIME\\_BLK & ARR\\_TIME & ARR\\_DEL15 & CANCELLED & DIVERTED & DISTANCE\\\\\n",
       "\\hline\n",
       "\t 1         & 4         & AA        & 19805     & AA        & N787AA    & 1         & 12478     & 1247802   & JFK       & ...       & 1289203   & LAX       & 855       & 0.00      & 0900-0959 & 1237      & 0.00      & 0.00      & 0.00      & 2475.00  \\\\\n",
       "\t 1         & 4         & AA        & 19805     & AA        & N795AA    & 2         & 12892     & 1289203   & LAX       & ...       & 1247802   & JFK       & 856       & 0.00      & 0900-0959 & 1651      & 0.00      & 0.00      & 0.00      & 2475.00  \\\\\n",
       "\\end{tabular}\n"
      ],
      "text/plain": [
       "  DAY_OF_MONTH DAY_OF_WEEK UNIQUE_CARRIER AIRLINE_ID CARRIER TAIL_NUM FL_NUM\n",
       "1 1            4           AA             19805      AA      N787AA   1     \n",
       "2 1            4           AA             19805      AA      N795AA   2     \n",
       "  ORIGIN_AIRPORT_ID ORIGIN_AIRPORT_SEQ_ID ORIGIN ... DEST_AIRPORT_SEQ_ID DEST\n",
       "1 12478             1247802               JFK    ... 1289203             LAX \n",
       "2 12892             1289203               LAX    ... 1247802             JFK \n",
       "  DEP_TIME DEP_DEL15 DEP_TIME_BLK ARR_TIME ARR_DEL15 CANCELLED DIVERTED\n",
       "1 855      0.00      0900-0959    1237     0.00      0.00      0.00    \n",
       "2 856      0.00      0900-0959    1651     0.00      0.00      0.00    \n",
       "  DISTANCE\n",
       "1 2475.00 \n",
       "2 2475.00 "
      ]
     },
     "metadata": {},
     "output_type": "display_data"
    }
   ],
   "source": [
    "filteredData$X <- NULL\n",
    "tail(filteredData, 2)\n",
    "head(filteredData, 2)"
   ]
  },
  {
   "cell_type": "markdown",
   "metadata": {},
   "source": [
    "#### Check correlated values"
   ]
  },
  {
   "cell_type": "code",
   "execution_count": 6,
   "metadata": {
    "collapsed": false
   },
   "outputs": [
    {
     "data": {
      "text/html": [
       "<table>\n",
       "<thead><tr><th></th><th scope=col>ORIGIN_AIRPORT_ID</th><th scope=col>ORIGIN_AIRPORT_SEQ_ID</th></tr></thead>\n",
       "<tbody>\n",
       "\t<tr><th scope=row>ORIGIN_AIRPORT_ID</th><td>1</td><td>1</td></tr>\n",
       "\t<tr><th scope=row>ORIGIN_AIRPORT_SEQ_ID</th><td>1</td><td>1</td></tr>\n",
       "</tbody>\n",
       "</table>\n"
      ],
      "text/latex": [
       "\\begin{tabular}{r|ll}\n",
       "  & ORIGIN\\_AIRPORT\\_ID & ORIGIN\\_AIRPORT\\_SEQ\\_ID\\\\\n",
       "\\hline\n",
       "\tORIGIN\\_AIRPORT\\_ID & 1 & 1\\\\\n",
       "\tORIGIN\\_AIRPORT\\_SEQ\\_ID & 1 & 1\\\\\n",
       "\\end{tabular}\n"
      ],
      "text/markdown": [
       "1. 1\n",
       "2. 0.999999999989238\n",
       "3. 0.999999999989238\n",
       "4. 1\n",
       "\n",
       "\n"
      ],
      "text/plain": [
       "                      ORIGIN_AIRPORT_ID ORIGIN_AIRPORT_SEQ_ID\n",
       "ORIGIN_AIRPORT_ID     1                 1                    \n",
       "ORIGIN_AIRPORT_SEQ_ID 1                 1                    "
      ]
     },
     "metadata": {},
     "output_type": "display_data"
    },
    {
     "data": {
      "text/html": [
       "<table>\n",
       "<thead><tr><th></th><th scope=col>DEST_AIRPORT_ID</th><th scope=col>DEST_AIRPORT_SEQ_ID</th></tr></thead>\n",
       "<tbody>\n",
       "\t<tr><th scope=row>DEST_AIRPORT_ID</th><td>1</td><td>1</td></tr>\n",
       "\t<tr><th scope=row>DEST_AIRPORT_SEQ_ID</th><td>1</td><td>1</td></tr>\n",
       "</tbody>\n",
       "</table>\n"
      ],
      "text/latex": [
       "\\begin{tabular}{r|ll}\n",
       "  & DEST\\_AIRPORT\\_ID & DEST\\_AIRPORT\\_SEQ\\_ID\\\\\n",
       "\\hline\n",
       "\tDEST\\_AIRPORT\\_ID & 1 & 1\\\\\n",
       "\tDEST\\_AIRPORT\\_SEQ\\_ID & 1 & 1\\\\\n",
       "\\end{tabular}\n"
      ],
      "text/markdown": [
       "1. 1\n",
       "2. 0.999999999989231\n",
       "3. 0.999999999989231\n",
       "4. 1\n",
       "\n",
       "\n"
      ],
      "text/plain": [
       "                    DEST_AIRPORT_ID DEST_AIRPORT_SEQ_ID\n",
       "DEST_AIRPORT_ID     1               1                  \n",
       "DEST_AIRPORT_SEQ_ID 1               1                  "
      ]
     },
     "metadata": {},
     "output_type": "display_data"
    }
   ],
   "source": [
    "cor(filteredData[c('ORIGIN_AIRPORT_ID', 'ORIGIN_AIRPORT_SEQ_ID')])\n",
    "cor(filteredData[c('DEST_AIRPORT_ID', 'DEST_AIRPORT_SEQ_ID')])"
   ]
  },
  {
   "cell_type": "markdown",
   "metadata": {},
   "source": [
    "Drop correlated columns that doesn't provide new information"
   ]
  },
  {
   "cell_type": "code",
   "execution_count": 7,
   "metadata": {
    "collapsed": false
   },
   "outputs": [
    {
     "data": {
      "text/html": [
       "<table>\n",
       "<thead><tr><th scope=col>DAY_OF_MONTH</th><th scope=col>DAY_OF_WEEK</th><th scope=col>UNIQUE_CARRIER</th><th scope=col>AIRLINE_ID</th><th scope=col>CARRIER</th><th scope=col>TAIL_NUM</th><th scope=col>FL_NUM</th><th scope=col>ORIGIN_AIRPORT_ID</th><th scope=col>ORIGIN</th><th scope=col>DEST_AIRPORT_ID</th><th scope=col>DEST</th><th scope=col>DEP_TIME</th><th scope=col>DEP_DEL15</th><th scope=col>DEP_TIME_BLK</th><th scope=col>ARR_TIME</th><th scope=col>ARR_DEL15</th><th scope=col>CANCELLED</th><th scope=col>DIVERTED</th><th scope=col>DISTANCE</th></tr></thead>\n",
       "<tbody>\n",
       "\t<tr><td>1        </td><td>4        </td><td>AA       </td><td>19805    </td><td>AA       </td><td>N787AA   </td><td>1        </td><td>12478    </td><td>JFK      </td><td>12892    </td><td>LAX      </td><td>855      </td><td>0.00     </td><td>0900-0959</td><td>1237     </td><td>0.00     </td><td>0.00     </td><td>0.00     </td><td>2475.00  </td></tr>\n",
       "\t<tr><td>1        </td><td>4        </td><td>AA       </td><td>19805    </td><td>AA       </td><td>N795AA   </td><td>2        </td><td>12892    </td><td>LAX      </td><td>12478    </td><td>JFK      </td><td>856      </td><td>0.00     </td><td>0900-0959</td><td>1651     </td><td>0.00     </td><td>0.00     </td><td>0.00     </td><td>2475.00  </td></tr>\n",
       "</tbody>\n",
       "</table>\n"
      ],
      "text/latex": [
       "\\begin{tabular}{r|lllllllllllllllllll}\n",
       " DAY\\_OF\\_MONTH & DAY\\_OF\\_WEEK & UNIQUE\\_CARRIER & AIRLINE\\_ID & CARRIER & TAIL\\_NUM & FL\\_NUM & ORIGIN\\_AIRPORT\\_ID & ORIGIN & DEST\\_AIRPORT\\_ID & DEST & DEP\\_TIME & DEP\\_DEL15 & DEP\\_TIME\\_BLK & ARR\\_TIME & ARR\\_DEL15 & CANCELLED & DIVERTED & DISTANCE\\\\\n",
       "\\hline\n",
       "\t 1         & 4         & AA        & 19805     & AA        & N787AA    & 1         & 12478     & JFK       & 12892     & LAX       & 855       & 0.00      & 0900-0959 & 1237      & 0.00      & 0.00      & 0.00      & 2475.00  \\\\\n",
       "\t 1         & 4         & AA        & 19805     & AA        & N795AA    & 2         & 12892     & LAX       & 12478     & JFK       & 856       & 0.00      & 0900-0959 & 1651      & 0.00      & 0.00      & 0.00      & 2475.00  \\\\\n",
       "\\end{tabular}\n"
      ],
      "text/plain": [
       "  DAY_OF_MONTH DAY_OF_WEEK UNIQUE_CARRIER AIRLINE_ID CARRIER TAIL_NUM FL_NUM\n",
       "1 1            4           AA             19805      AA      N787AA   1     \n",
       "2 1            4           AA             19805      AA      N795AA   2     \n",
       "  ORIGIN_AIRPORT_ID ORIGIN DEST_AIRPORT_ID DEST DEP_TIME DEP_DEL15 DEP_TIME_BLK\n",
       "1 12478             JFK    12892           LAX  855      0.00      0900-0959   \n",
       "2 12892             LAX    12478           JFK  856      0.00      0900-0959   \n",
       "  ARR_TIME ARR_DEL15 CANCELLED DIVERTED DISTANCE\n",
       "1 1237     0.00      0.00      0.00     2475.00 \n",
       "2 1651     0.00      0.00      0.00     2475.00 "
      ]
     },
     "metadata": {},
     "output_type": "display_data"
    }
   ],
   "source": [
    "filteredData$ORIGIN_AIRPORT_SEQ_ID <- NULL\n",
    "filteredData$DEST_AIRPORT_SEQ_ID <- NULL\n",
    "head(filteredData, 2)"
   ]
  },
  {
   "cell_type": "markdown",
   "metadata": {},
   "source": [
    "#### Check duplicate columns that have identical values"
   ]
  },
  {
   "cell_type": "code",
   "execution_count": 8,
   "metadata": {
    "collapsed": false
   },
   "outputs": [
    {
     "data": {
      "text/html": [
       "0"
      ],
      "text/latex": [
       "0"
      ],
      "text/markdown": [
       "0"
      ],
      "text/plain": [
       "[1] 0"
      ]
     },
     "metadata": {},
     "output_type": "display_data"
    }
   ],
   "source": [
    "mismatched <- filteredData[filteredData$CARRIER != filteredData$UNIQUE_CARRIER,]\n",
    "nrow(mismatched)"
   ]
  },
  {
   "cell_type": "markdown",
   "metadata": {},
   "source": [
    "It is identical, remove the column"
   ]
  },
  {
   "cell_type": "code",
   "execution_count": 9,
   "metadata": {
    "collapsed": false
   },
   "outputs": [
    {
     "data": {
      "text/html": [
       "<table>\n",
       "<thead><tr><th scope=col>DAY_OF_MONTH</th><th scope=col>DAY_OF_WEEK</th><th scope=col>AIRLINE_ID</th><th scope=col>CARRIER</th><th scope=col>TAIL_NUM</th><th scope=col>FL_NUM</th><th scope=col>ORIGIN_AIRPORT_ID</th><th scope=col>ORIGIN</th><th scope=col>DEST_AIRPORT_ID</th><th scope=col>DEST</th><th scope=col>DEP_TIME</th><th scope=col>DEP_DEL15</th><th scope=col>DEP_TIME_BLK</th><th scope=col>ARR_TIME</th><th scope=col>ARR_DEL15</th><th scope=col>CANCELLED</th><th scope=col>DIVERTED</th><th scope=col>DISTANCE</th></tr></thead>\n",
       "<tbody>\n",
       "\t<tr><td>1        </td><td>4        </td><td>19805    </td><td>AA       </td><td>N787AA   </td><td>1        </td><td>12478    </td><td>JFK      </td><td>12892    </td><td>LAX      </td><td>855      </td><td>0.00     </td><td>0900-0959</td><td>1237     </td><td>0.00     </td><td>0.00     </td><td>0.00     </td><td>2475.00  </td></tr>\n",
       "\t<tr><td>1        </td><td>4        </td><td>19805    </td><td>AA       </td><td>N795AA   </td><td>2        </td><td>12892    </td><td>LAX      </td><td>12478    </td><td>JFK      </td><td>856      </td><td>0.00     </td><td>0900-0959</td><td>1651     </td><td>0.00     </td><td>0.00     </td><td>0.00     </td><td>2475.00  </td></tr>\n",
       "</tbody>\n",
       "</table>\n"
      ],
      "text/latex": [
       "\\begin{tabular}{r|llllllllllllllllll}\n",
       " DAY\\_OF\\_MONTH & DAY\\_OF\\_WEEK & AIRLINE\\_ID & CARRIER & TAIL\\_NUM & FL\\_NUM & ORIGIN\\_AIRPORT\\_ID & ORIGIN & DEST\\_AIRPORT\\_ID & DEST & DEP\\_TIME & DEP\\_DEL15 & DEP\\_TIME\\_BLK & ARR\\_TIME & ARR\\_DEL15 & CANCELLED & DIVERTED & DISTANCE\\\\\n",
       "\\hline\n",
       "\t 1         & 4         & 19805     & AA        & N787AA    & 1         & 12478     & JFK       & 12892     & LAX       & 855       & 0.00      & 0900-0959 & 1237      & 0.00      & 0.00      & 0.00      & 2475.00  \\\\\n",
       "\t 1         & 4         & 19805     & AA        & N795AA    & 2         & 12892     & LAX       & 12478     & JFK       & 856       & 0.00      & 0900-0959 & 1651      & 0.00      & 0.00      & 0.00      & 2475.00  \\\\\n",
       "\\end{tabular}\n"
      ],
      "text/plain": [
       "  DAY_OF_MONTH DAY_OF_WEEK AIRLINE_ID CARRIER TAIL_NUM FL_NUM ORIGIN_AIRPORT_ID\n",
       "1 1            4           19805      AA      N787AA   1      12478            \n",
       "2 1            4           19805      AA      N795AA   2      12892            \n",
       "  ORIGIN DEST_AIRPORT_ID DEST DEP_TIME DEP_DEL15 DEP_TIME_BLK ARR_TIME\n",
       "1 JFK    12892           LAX  855      0.00      0900-0959    1237    \n",
       "2 LAX    12478           JFK  856      0.00      0900-0959    1651    \n",
       "  ARR_DEL15 CANCELLED DIVERTED DISTANCE\n",
       "1 0.00      0.00      0.00     2475.00 \n",
       "2 0.00      0.00      0.00     2475.00 "
      ]
     },
     "metadata": {},
     "output_type": "display_data"
    }
   ],
   "source": [
    "filteredData$UNIQUE_CARRIER <- NULL\n",
    "head(filteredData, 2)"
   ]
  },
  {
   "cell_type": "markdown",
   "metadata": {},
   "source": [
    "### Molding Data"
   ]
  },
  {
   "cell_type": "markdown",
   "metadata": {},
   "source": [
    "#### Remove unlabeled rows"
   ]
  },
  {
   "cell_type": "markdown",
   "metadata": {},
   "source": [
    "Remove rows that is no value or with value \"NA\" or \"\" for target/label variable such as Arr_Del15 and Dep_Del15"
   ]
  },
  {
   "cell_type": "code",
   "execution_count": 10,
   "metadata": {
    "collapsed": false
   },
   "outputs": [
    {
     "data": {
      "text/html": [
       "32716"
      ],
      "text/latex": [
       "32716"
      ],
      "text/markdown": [
       "32716"
      ],
      "text/plain": [
       "[1] 32716"
      ]
     },
     "metadata": {},
     "output_type": "display_data"
    },
    {
     "data": {
      "text/html": [
       "32124"
      ],
      "text/latex": [
       "32124"
      ],
      "text/markdown": [
       "32124"
      ],
      "text/plain": [
       "[1] 32124"
      ]
     },
     "metadata": {},
     "output_type": "display_data"
    }
   ],
   "source": [
    "onTimeData <- filteredData[!is.na(filteredData$ARR_DEL15) & filteredData$ARR_DEL15!=\"\" & !is.na(filteredData$DEP_DEL15) & filteredData$DEP_DEL15!=\"\",]\n",
    "nrow(filteredData)\n",
    "nrow(onTimeData)"
   ]
  },
  {
   "cell_type": "markdown",
   "metadata": {},
   "source": [
    "#### Change data types"
   ]
  },
  {
   "cell_type": "code",
   "execution_count": 11,
   "metadata": {
    "collapsed": false
   },
   "outputs": [
    {
     "data": {
      "text/html": [
       "<table>\n",
       "<thead><tr><th></th><th scope=col>DAY_OF_MONTH</th><th scope=col>DAY_OF_WEEK</th><th scope=col>AIRLINE_ID</th><th scope=col>CARRIER</th><th scope=col>TAIL_NUM</th><th scope=col>FL_NUM</th><th scope=col>ORIGIN_AIRPORT_ID</th><th scope=col>ORIGIN</th><th scope=col>DEST_AIRPORT_ID</th><th scope=col>DEST</th><th scope=col>DEP_TIME</th><th scope=col>DEP_DEL15</th><th scope=col>DEP_TIME_BLK</th><th scope=col>ARR_TIME</th><th scope=col>ARR_DEL15</th><th scope=col>CANCELLED</th><th scope=col>DIVERTED</th><th scope=col>DISTANCE</th></tr></thead>\n",
       "<tbody>\n",
       "\t<tr><th scope=row>1</th><td>1        </td><td>4        </td><td>19805    </td><td>AA       </td><td>N787AA   </td><td> 1       </td><td>12478    </td><td>JFK      </td><td>12892    </td><td>LAX      </td><td> 855     </td><td>0.00     </td><td>0900-0959</td><td>1237     </td><td>0.00     </td><td>0        </td><td>0        </td><td>2475     </td></tr>\n",
       "\t<tr><th scope=row>2</th><td>1        </td><td>4        </td><td>19805    </td><td>AA       </td><td>N795AA   </td><td> 2       </td><td>12892    </td><td>LAX      </td><td>12478    </td><td>JFK      </td><td> 856     </td><td>0.00     </td><td>0900-0959</td><td>1651     </td><td>0.00     </td><td>0        </td><td>0        </td><td>2475     </td></tr>\n",
       "\t<tr><th scope=row>3</th><td>1        </td><td>4        </td><td>19805    </td><td>AA       </td><td>N798AA   </td><td> 3       </td><td>12478    </td><td>JFK      </td><td>12892    </td><td>LAX      </td><td>1226     </td><td>0.00     </td><td>1200-1259</td><td>1548     </td><td>0.00     </td><td>0        </td><td>0        </td><td>2475     </td></tr>\n",
       "\t<tr><th scope=row>4</th><td>1        </td><td>4        </td><td>19805    </td><td>AA       </td><td>N799AA   </td><td> 4       </td><td>12892    </td><td>LAX      </td><td>12478    </td><td>JFK      </td><td>1214     </td><td>0.00     </td><td>1200-1259</td><td>2033     </td><td>0.00     </td><td>0        </td><td>0        </td><td>2475     </td></tr>\n",
       "\t<tr><th scope=row>9</th><td>1        </td><td>4        </td><td>19805    </td><td>AA       </td><td>N792AA   </td><td> 9       </td><td>12478    </td><td>JFK      </td><td>12892    </td><td>LAX      </td><td> 649     </td><td>0.00     </td><td>0700-0759</td><td>1026     </td><td>0.00     </td><td>0        </td><td>0        </td><td>2475     </td></tr>\n",
       "\t<tr><th scope=row>10</th><td>1        </td><td>4        </td><td>19805    </td><td>AA       </td><td>N796AA   </td><td>10       </td><td>12892    </td><td>LAX      </td><td>12478    </td><td>JFK      </td><td>2150     </td><td>0.00     </td><td>2100-2159</td><td> 544     </td><td>0.00     </td><td>0        </td><td>0        </td><td>2475     </td></tr>\n",
       "\t<tr><th scope=row>11</th><td>1        </td><td>4        </td><td>19805    </td><td>AA       </td><td>N792AA   </td><td>12       </td><td>12892    </td><td>LAX      </td><td>12478    </td><td>JFK      </td><td>1114     </td><td>0.00     </td><td>1100-1159</td><td>1935     </td><td>0.00     </td><td>0        </td><td>0        </td><td>2475     </td></tr>\n",
       "\t<tr><th scope=row>13</th><td>1        </td><td>4        </td><td>19805    </td><td>AA       </td><td>N783AA   </td><td>15       </td><td>12478    </td><td>JFK      </td><td>14771    </td><td>SFO      </td><td> 755     </td><td>0.00     </td><td>0800-0859</td><td>1228     </td><td>1.00     </td><td>0        </td><td>0        </td><td>2586     </td></tr>\n",
       "\t<tr><th scope=row>14</th><td>1        </td><td>4        </td><td>19805    </td><td>AA       </td><td>N783AA   </td><td>16       </td><td>14771    </td><td>SFO      </td><td>12478    </td><td>JFK      </td><td>1316     </td><td>1.00     </td><td>1200-1259</td><td>2149     </td><td>1.00     </td><td>0        </td><td>0        </td><td>2586     </td></tr>\n",
       "\t<tr><th scope=row>16</th><td>1        </td><td>4        </td><td>19805    </td><td>AA       </td><td>N786AA   </td><td>19       </td><td>12478    </td><td>JFK      </td><td>12892    </td><td>LAX      </td><td>1055     </td><td>0.00     </td><td>1100-1159</td><td>1413     </td><td>0.00     </td><td>0        </td><td>0        </td><td>2475     </td></tr>\n",
       "</tbody>\n",
       "</table>\n"
      ],
      "text/latex": [
       "\\begin{tabular}{r|llllllllllllllllll}\n",
       "  & DAY\\_OF\\_MONTH & DAY\\_OF\\_WEEK & AIRLINE\\_ID & CARRIER & TAIL\\_NUM & FL\\_NUM & ORIGIN\\_AIRPORT\\_ID & ORIGIN & DEST\\_AIRPORT\\_ID & DEST & DEP\\_TIME & DEP\\_DEL15 & DEP\\_TIME\\_BLK & ARR\\_TIME & ARR\\_DEL15 & CANCELLED & DIVERTED & DISTANCE\\\\\n",
       "\\hline\n",
       "\t1 & 1         & 4         & 19805     & AA        & N787AA    &  1        & 12478     & JFK       & 12892     & LAX       &  855      & 0.00      & 0900-0959 & 1237      & 0.00      & 0         & 0         & 2475     \\\\\n",
       "\t2 & 1         & 4         & 19805     & AA        & N795AA    &  2        & 12892     & LAX       & 12478     & JFK       &  856      & 0.00      & 0900-0959 & 1651      & 0.00      & 0         & 0         & 2475     \\\\\n",
       "\t3 & 1         & 4         & 19805     & AA        & N798AA    &  3        & 12478     & JFK       & 12892     & LAX       & 1226      & 0.00      & 1200-1259 & 1548      & 0.00      & 0         & 0         & 2475     \\\\\n",
       "\t4 & 1         & 4         & 19805     & AA        & N799AA    &  4        & 12892     & LAX       & 12478     & JFK       & 1214      & 0.00      & 1200-1259 & 2033      & 0.00      & 0         & 0         & 2475     \\\\\n",
       "\t9 & 1         & 4         & 19805     & AA        & N792AA    &  9        & 12478     & JFK       & 12892     & LAX       &  649      & 0.00      & 0700-0759 & 1026      & 0.00      & 0         & 0         & 2475     \\\\\n",
       "\t10 & 1         & 4         & 19805     & AA        & N796AA    & 10        & 12892     & LAX       & 12478     & JFK       & 2150      & 0.00      & 2100-2159 &  544      & 0.00      & 0         & 0         & 2475     \\\\\n",
       "\t11 & 1         & 4         & 19805     & AA        & N792AA    & 12        & 12892     & LAX       & 12478     & JFK       & 1114      & 0.00      & 1100-1159 & 1935      & 0.00      & 0         & 0         & 2475     \\\\\n",
       "\t13 & 1         & 4         & 19805     & AA        & N783AA    & 15        & 12478     & JFK       & 14771     & SFO       &  755      & 0.00      & 0800-0859 & 1228      & 1.00      & 0         & 0         & 2586     \\\\\n",
       "\t14 & 1         & 4         & 19805     & AA        & N783AA    & 16        & 14771     & SFO       & 12478     & JFK       & 1316      & 1.00      & 1200-1259 & 2149      & 1.00      & 0         & 0         & 2586     \\\\\n",
       "\t16 & 1         & 4         & 19805     & AA        & N786AA    & 19        & 12478     & JFK       & 12892     & LAX       & 1055      & 0.00      & 1100-1159 & 1413      & 0.00      & 0         & 0         & 2475     \\\\\n",
       "\\end{tabular}\n"
      ],
      "text/plain": [
       "   DAY_OF_MONTH DAY_OF_WEEK AIRLINE_ID CARRIER TAIL_NUM FL_NUM\n",
       "1  1            4           19805      AA      N787AA    1    \n",
       "2  1            4           19805      AA      N795AA    2    \n",
       "3  1            4           19805      AA      N798AA    3    \n",
       "4  1            4           19805      AA      N799AA    4    \n",
       "9  1            4           19805      AA      N792AA    9    \n",
       "10 1            4           19805      AA      N796AA   10    \n",
       "11 1            4           19805      AA      N792AA   12    \n",
       "13 1            4           19805      AA      N783AA   15    \n",
       "14 1            4           19805      AA      N783AA   16    \n",
       "16 1            4           19805      AA      N786AA   19    \n",
       "   ORIGIN_AIRPORT_ID ORIGIN DEST_AIRPORT_ID DEST DEP_TIME DEP_DEL15\n",
       "1  12478             JFK    12892           LAX   855     0.00     \n",
       "2  12892             LAX    12478           JFK   856     0.00     \n",
       "3  12478             JFK    12892           LAX  1226     0.00     \n",
       "4  12892             LAX    12478           JFK  1214     0.00     \n",
       "9  12478             JFK    12892           LAX   649     0.00     \n",
       "10 12892             LAX    12478           JFK  2150     0.00     \n",
       "11 12892             LAX    12478           JFK  1114     0.00     \n",
       "13 12478             JFK    14771           SFO   755     0.00     \n",
       "14 14771             SFO    12478           JFK  1316     1.00     \n",
       "16 12478             JFK    12892           LAX  1055     0.00     \n",
       "   DEP_TIME_BLK ARR_TIME ARR_DEL15 CANCELLED DIVERTED DISTANCE\n",
       "1  0900-0959    1237     0.00      0         0        2475    \n",
       "2  0900-0959    1651     0.00      0         0        2475    \n",
       "3  1200-1259    1548     0.00      0         0        2475    \n",
       "4  1200-1259    2033     0.00      0         0        2475    \n",
       "9  0700-0759    1026     0.00      0         0        2475    \n",
       "10 2100-2159     544     0.00      0         0        2475    \n",
       "11 1100-1159    1935     0.00      0         0        2475    \n",
       "13 0800-0859    1228     1.00      0         0        2586    \n",
       "14 1200-1259    2149     1.00      0         0        2586    \n",
       "16 1100-1159    1413     0.00      0         0        2475    "
      ]
     },
     "metadata": {},
     "output_type": "display_data"
    }
   ],
   "source": [
    "onTimeData$DISTANCE <- as.integer(onTimeData$DISTANCE)\n",
    "onTimeData$CANCELLED <- as.integer(onTimeData$CANCELLED)\n",
    "onTimeData$DIVERTED <- as.integer(onTimeData$DIVERTED)\n",
    "onTimeData$ARR_DEL15 <- as.factor(onTimeData$ARR_DEL15)\n",
    "onTimeData$DEP_DEL15 <- as.factor(onTimeData$DEP_DEL15)\n",
    "onTimeData$ORIGIN_AIRPORT_ID <- as.factor(onTimeData$ORIGIN_AIRPORT_ID)\n",
    "onTimeData$DEST_AIRPORT_ID <- as.factor(onTimeData$DEST_AIRPORT_ID)\n",
    "onTimeData$DAY_OF_WEEK <- as.factor(onTimeData$DAY_OF_WEEK)\n",
    "onTimeData$ORIGIN <- as.factor(onTimeData$ORIGIN)\n",
    "onTimeData$DEST <- as.factor(onTimeData$DEST)\n",
    "onTimeData$DEP_TIME_BLK <- as.factor(onTimeData$DEP_TIME_BLK)\n",
    "onTimeData$CARRIER <- as.factor(onTimeData$CARRIER)\n",
    "head(onTimeData, 10)"
   ]
  },
  {
   "cell_type": "code",
   "execution_count": 12,
   "metadata": {
    "collapsed": false
   },
   "outputs": [
    {
     "data": {
      "text/html": [
       "<dl class=dl-horizontal>\n",
       "\t<dt>0.00</dt>\n",
       "\t\t<dd>25664</dd>\n",
       "\t<dt>1.00</dt>\n",
       "\t\t<dd>6460</dd>\n",
       "</dl>\n"
      ],
      "text/plain": [
       " 0.00  1.00 \n",
       "25664  6460 "
      ]
     },
     "metadata": {},
     "output_type": "display_data"
    },
    {
     "data": {
      "text/html": [
       "0.20109575395343"
      ],
      "text/latex": [
       "0.20109575395343"
      ],
      "text/markdown": [
       "0.20109575395343"
      ],
      "text/plain": [
       "[1] 0.2010958"
      ]
     },
     "metadata": {},
     "output_type": "display_data"
    }
   ],
   "source": [
    "tapply(onTimeData$ARR_DEL15, onTimeData$ARR_DEL15, length)\n",
    "6460/(6460 + 25664)"
   ]
  },
  {
   "cell_type": "markdown",
   "metadata": {},
   "source": [
    "20% delay flights based on the above calculation."
   ]
  },
  {
   "cell_type": "markdown",
   "metadata": {},
   "source": [
    "## Selecting algorithm\n",
    "The selected initial algorithm is Logistic Regression as it is simple(easy to understand), fast(up to 100x faster) and stable to data changes.\n",
    "\n",
    "Then, switch to Random Forest to improve prediction result."
   ]
  },
  {
   "cell_type": "markdown",
   "metadata": {},
   "source": [
    "## Training the model"
   ]
  },
  {
   "cell_type": "markdown",
   "metadata": {},
   "source": [
    " * Training the model using caret package"
   ]
  },
  {
   "cell_type": "code",
   "execution_count": 13,
   "metadata": {
    "collapsed": false
   },
   "outputs": [
    {
     "name": "stderr",
     "output_type": "stream",
     "text": [
      "Warning message:\n",
      "\"package 'caret' was built under R version 3.3.1\"Loading required package: lattice\n",
      "Loading required package: ggplot2\n"
     ]
    }
   ],
   "source": [
    "# Download and install caret locally\n",
    "# install.packages(\"caret\", dependencies=TRUE, repos='http://cran.us.r-project.org')\n",
    "\n",
    "# Load caret\n",
    "library(caret)"
   ]
  },
  {
   "cell_type": "markdown",
   "metadata": {
    "collapsed": true
   },
   "source": [
    " * Set the seed so that the random number generated in the same sequence to yield the same repeatable/reproducable training results"
   ]
  },
  {
   "cell_type": "code",
   "execution_count": 14,
   "metadata": {
    "collapsed": true
   },
   "outputs": [],
   "source": [
    "set.seed(122515)"
   ]
  },
  {
   "cell_type": "markdown",
   "metadata": {},
   "source": [
    "* Retrieve feature columns only"
   ]
  },
  {
   "cell_type": "code",
   "execution_count": 15,
   "metadata": {
    "collapsed": true
   },
   "outputs": [],
   "source": [
    "# set the columns we are going to use to train algorithm\n",
    "featureCols <- c(\"ARR_DEL15\", \"DAY_OF_WEEK\", \"CARRIER\", \"DEST\",\"ORIGIN\",\"DEP_TIME_BLK\")\n",
    "\n",
    "# created filtered version of onTimeData dataframe\n",
    "onTimeDataFiltered <- onTimeData[,featureCols]"
   ]
  },
  {
   "cell_type": "markdown",
   "metadata": {},
   "source": [
    " * Retrieve 70% of data for training"
   ]
  },
  {
   "cell_type": "code",
   "execution_count": 16,
   "metadata": {
    "collapsed": false
   },
   "outputs": [
    {
     "data": {
      "text/html": [
       "<table>\n",
       "<thead><tr><th scope=col>Resample1</th></tr></thead>\n",
       "<tbody>\n",
       "\t<tr><td> 2</td></tr>\n",
       "\t<tr><td> 4</td></tr>\n",
       "\t<tr><td> 5</td></tr>\n",
       "\t<tr><td> 7</td></tr>\n",
       "\t<tr><td>10</td></tr>\n",
       "\t<tr><td>11</td></tr>\n",
       "\t<tr><td>12</td></tr>\n",
       "\t<tr><td>14</td></tr>\n",
       "\t<tr><td>15</td></tr>\n",
       "\t<tr><td>16</td></tr>\n",
       "</tbody>\n",
       "</table>\n"
      ],
      "text/latex": [
       "\\begin{tabular}{l}\n",
       " Resample1\\\\\n",
       "\\hline\n",
       "\t  2\\\\\n",
       "\t  4\\\\\n",
       "\t  5\\\\\n",
       "\t  7\\\\\n",
       "\t 10\\\\\n",
       "\t 11\\\\\n",
       "\t 12\\\\\n",
       "\t 14\\\\\n",
       "\t 15\\\\\n",
       "\t 16\\\\\n",
       "\\end{tabular}\n"
      ],
      "text/markdown": [
       "1. 2\n",
       "2. 4\n",
       "3. 5\n",
       "4. 7\n",
       "5. 10\n",
       "6. 11\n",
       "7. 12\n",
       "8. 14\n",
       "9. 15\n",
       "10. 16\n",
       "\n",
       "\n"
      ],
      "text/plain": [
       "      Resample1\n",
       " [1,]  2       \n",
       " [2,]  4       \n",
       " [3,]  5       \n",
       " [4,]  7       \n",
       " [5,] 10       \n",
       " [6,] 11       \n",
       " [7,] 12       \n",
       " [8,] 14       \n",
       " [9,] 15       \n",
       "[10,] 16       "
      ]
     },
     "metadata": {},
     "output_type": "display_data"
    }
   ],
   "source": [
    "# create vector contain row indicies to put into the training data frames\n",
    "inTrainRows <- createDataPartition(onTimeDataFiltered$ARR_DEL15, p=0.70, list=FALSE)\n",
    "# check the row IDs\n",
    "head(inTrainRows,10)\n",
    "# Create the training data frame\n",
    "trainDataFiltered <- onTimeDataFiltered[inTrainRows,]"
   ]
  },
  {
   "cell_type": "markdown",
   "metadata": {},
   "source": [
    "* Retrieve the remaining 30% of data for testing"
   ]
  },
  {
   "cell_type": "code",
   "execution_count": 17,
   "metadata": {
    "collapsed": true
   },
   "outputs": [],
   "source": [
    "# Create the testing data frame.  Notice the prefix \"-\" \n",
    "testDataFiltered <- onTimeDataFiltered[-inTrainRows,]"
   ]
  },
  {
   "cell_type": "markdown",
   "metadata": {},
   "source": [
    "* Check split data"
   ]
  },
  {
   "cell_type": "code",
   "execution_count": 18,
   "metadata": {
    "collapsed": false
   },
   "outputs": [
    {
     "data": {
      "text/html": [
       "0.700006225874735"
      ],
      "text/latex": [
       "0.700006225874735"
      ],
      "text/markdown": [
       "0.700006225874735"
      ],
      "text/plain": [
       "[1] 0.7000062"
      ]
     },
     "metadata": {},
     "output_type": "display_data"
    },
    {
     "data": {
      "text/html": [
       "0.299993774125265"
      ],
      "text/latex": [
       "0.299993774125265"
      ],
      "text/markdown": [
       "0.299993774125265"
      ],
      "text/plain": [
       "[1] 0.2999938"
      ]
     },
     "metadata": {},
     "output_type": "display_data"
    }
   ],
   "source": [
    "#   Should be 70%\n",
    "nrow(trainDataFiltered)/(nrow(testDataFiltered) + nrow(trainDataFiltered))\n",
    "#   Should be 30%\n",
    "nrow(testDataFiltered)/(nrow(testDataFiltered) + nrow(trainDataFiltered))"
   ]
  },
  {
   "cell_type": "markdown",
   "metadata": {},
   "source": [
    " * Train the model with train data"
   ]
  },
  {
   "cell_type": "code",
   "execution_count": 19,
   "metadata": {
    "collapsed": false
   },
   "outputs": [],
   "source": [
    "#  Logistic Regression\n",
    "logisticRegModel <- train(ARR_DEL15 ~ ., data=trainDataFiltered, method=\"glm\", family=\"binomial\", trControl=trainControl(method=\"cv\", number=10, repeats=10))"
   ]
  },
  {
   "cell_type": "markdown",
   "metadata": {
    "collapsed": true
   },
   "source": [
    "## Testing/Evaluating the model"
   ]
  },
  {
   "cell_type": "markdown",
   "metadata": {},
   "source": [
    " * Predict using trained model against test data"
   ]
  },
  {
   "cell_type": "code",
   "execution_count": 20,
   "metadata": {
    "collapsed": true
   },
   "outputs": [],
   "source": [
    "logRegPrediction <- predict(logisticRegModel, testDataFiltered)"
   ]
  },
  {
   "cell_type": "markdown",
   "metadata": {},
   "source": [
    " * Get detailed statistics of prediction versus actual via Confusion Matrix "
   ]
  },
  {
   "cell_type": "code",
   "execution_count": 21,
   "metadata": {
    "collapsed": false
   },
   "outputs": [
    {
     "data": {
      "text/plain": [
       "Confusion Matrix and Statistics\n",
       "\n",
       "          Reference\n",
       "Prediction 0.00 1.00\n",
       "      0.00 7676 1907\n",
       "      1.00   23   31\n",
       "                                          \n",
       "               Accuracy : 0.7997          \n",
       "                 95% CI : (0.7916, 0.8077)\n",
       "    No Information Rate : 0.7989          \n",
       "    P-Value [Acc > NIR] : 0.4254          \n",
       "                                          \n",
       "                  Kappa : 0.0204          \n",
       " Mcnemar's Test P-Value : <2e-16          \n",
       "                                          \n",
       "            Sensitivity : 0.9970          \n",
       "            Specificity : 0.0160          \n",
       "         Pos Pred Value : 0.8010          \n",
       "         Neg Pred Value : 0.5741          \n",
       "             Prevalence : 0.7989          \n",
       "         Detection Rate : 0.7965          \n",
       "   Detection Prevalence : 0.9944          \n",
       "      Balanced Accuracy : 0.5065          \n",
       "                                          \n",
       "       'Positive' Class : 0.00            \n",
       "                                          "
      ]
     },
     "metadata": {},
     "output_type": "display_data"
    }
   ],
   "source": [
    "logRegConfMat <- confusionMatrix(logRegPrediction, testDataFiltered[,\"ARR_DEL15\"])\n",
    "logRegConfMat"
   ]
  },
  {
   "cell_type": "markdown",
   "metadata": {},
   "source": [
    "### Improving performance with Random Forest\n",
    "We use the Random Forest algorithm which creates multiple decision trees and uses bagging to improve performance"
   ]
  },
  {
   "cell_type": "code",
   "execution_count": 23,
   "metadata": {
    "collapsed": false
   },
   "outputs": [
    {
     "name": "stdout",
     "output_type": "stream",
     "text": [
      "package 'randomForest' successfully unpacked and MD5 sums checked\n",
      "\n",
      "The downloaded binary packages are in\n",
      "\tC:\\Users\\limcheek\\AppData\\Local\\Temp\\RtmpeaI5cL\\downloaded_packages\n"
     ]
    },
    {
     "name": "stderr",
     "output_type": "stream",
     "text": [
      "Warning message:\n",
      "\"package 'randomForest' was built under R version 3.3.1\"randomForest 4.6-12\n",
      "Type rfNews() to see new features/changes/bug fixes.\n",
      "\n",
      "Attaching package: 'randomForest'\n",
      "\n",
      "The following object is masked from 'package:ggplot2':\n",
      "\n",
      "    margin\n",
      "\n"
     ]
    }
   ],
   "source": [
    "#  install the package - this only needs to be done once.  After the package is installed\n",
    "#  comment out this line unless you really want the latest version of the package to be downloaded\n",
    "#  and installed\n",
    "install.packages('randomForest', dependencies=TRUE, repos='http://cran.us.r-project.org')\n",
    "\n",
    "#  load the random forest library into the current session\n",
    "library(randomForest)"
   ]
  },
  {
   "cell_type": "markdown",
   "metadata": {},
   "source": [
    " * Create random forest predictive model"
   ]
  },
  {
   "cell_type": "code",
   "execution_count": null,
   "metadata": {
    "collapsed": true
   },
   "outputs": [],
   "source": [
    "# This code will run for a while!  It ran for 8 minutes on a system with a i7-4790K, 16 GB of memory, and a 500 GB SSD.\n",
    "rfModel <- randomForest(trainDataFiltered[-1], trainDataFiltered$ARR_DEL15, proximity = TRUE, importance = TRUE)\n",
    "rfModel"
   ]
  },
  {
   "cell_type": "markdown",
   "metadata": {
    "collapsed": true
   },
   "source": [
    " * Make prediction using the random forest model and check metrics"
   ]
  },
  {
   "cell_type": "code",
   "execution_count": null,
   "metadata": {
    "collapsed": true
   },
   "outputs": [],
   "source": [
    "#   Random Forest\n",
    "rfValidation <- predict(rfModel, testDataFiltered)\n",
    "#    Get detailed statistics of prediction versus actual via Confusion Matrix \n",
    "rfConfMat <- confusionMatrix(rfValidation, testDataFiltered[,\"ARR_DEL15\"])\n",
    "rfConfMat"
   ]
  }
 ],
 "metadata": {
  "anaconda-cloud": {},
  "kernelspec": {
   "display_name": "R",
   "language": "R",
   "name": "ir"
  },
  "language_info": {
   "codemirror_mode": "r",
   "file_extension": ".r",
   "mimetype": "text/x-r-source",
   "name": "R",
   "pygments_lexer": "r",
   "version": "3.3.0"
  }
 },
 "nbformat": 4,
 "nbformat_minor": 0
}
