{
 "cells": [
  {
   "cell_type": "code",
   "execution_count": 2,
   "metadata": {
    "collapsed": false
   },
   "outputs": [
    {
     "name": "stdout",
     "output_type": "stream",
     "text": [
      "I will now count my chickens:\n",
      "Hens 30\n",
      "Roosters 97\n",
      "Now I will count the eggs:\n",
      "7\n",
      "Is it true that 3 + 2 < 5 - 7?\n",
      "False\n",
      "What is 3 + 2? 5\n",
      "What is 5 - 7? -2\n",
      "Oh, that's why it's False.\n",
      "How about some more.\n",
      "Is it greater? True\n",
      "Is it greater or eqaul? True\n",
      "Is it less or eqaul? False\n"
     ]
    }
   ],
   "source": [
    "print \"I will now count my chickens:\"\n",
    "\n",
    "print \"Hens\", 25 + 30 / 6\n",
    "print \"Roosters\", 100 - 25 * 3 % 4\n",
    "\n",
    "print \"Now I will count the eggs:\"\n",
    "\n",
    "print 3 + 2 + 1 - 5 + 4 % 2 - 1 / 4 + 6\n",
    "\n",
    "print \"Is it true that 3 + 2 < 5 - 7?\"\n",
    "\n",
    "print 3 + 2 < 5 - 7\n",
    "\n",
    "print \"What is 3 + 2?\", 3 + 2\n",
    "print \"What is 5 - 7?\", 5 - 7\n",
    "\n",
    "print \"Oh, that's why it's False.\"\n",
    "\n",
    "print \"How about some more.\"\n",
    "\n",
    "print \"Is it greater?\", 5 > -2\n",
    "print \"Is it greater or eqaul?\", 5 >= -2\n",
    "print \"Is it less or eqaul?\", 5 <= -2\n",
    "\n",
    "# Order of operations\n",
    "# PEMDAS\n",
    "# --------\n",
    "# Parentheses\n",
    "# Exponents\n",
    "# Multiplication\n",
    "# Division\n",
    "# Addition\n",
    "# Subtraction"
   ]
  },
  {
   "cell_type": "code",
   "execution_count": null,
   "metadata": {
    "collapsed": true
   },
   "outputs": [],
   "source": []
  }
 ],
 "metadata": {
  "kernelspec": {
   "display_name": "Python 2",
   "language": "python",
   "name": "python2"
  },
  "language_info": {
   "codemirror_mode": {
    "name": "ipython",
    "version": 2
   },
   "file_extension": ".py",
   "mimetype": "text/x-python",
   "name": "python",
   "nbconvert_exporter": "python",
   "pygments_lexer": "ipython2",
   "version": "2.7.6"
  }
 },
 "nbformat": 4,
 "nbformat_minor": 1
}
