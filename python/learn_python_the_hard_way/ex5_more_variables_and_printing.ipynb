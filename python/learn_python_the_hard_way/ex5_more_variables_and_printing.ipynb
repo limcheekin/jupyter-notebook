{
 "cells": [
  {
   "cell_type": "code",
   "execution_count": 2,
   "metadata": {
    "collapsed": false
   },
   "outputs": [
    {
     "name": "stdout",
     "output_type": "stream",
     "text": [
      "Let's talk about Lim Chee Kin.\n",
      "He's 182 cm tall.\n",
      "He's 75 kg heavy.\n",
      "Actually that's not too heavy.\n",
      "He's got Brown eyes and Grey hair.\n",
      "His teeth are usually White depending on the coffee.\n",
      "If I add 38, 182, and 75 I get 295.\n"
     ]
    }
   ],
   "source": [
    "my_name = 'Lim Chee Kin'\n",
    "my_age = 38\n",
    "my_height = 182\n",
    "my_weight = 75\n",
    "my_eyes = 'Brown'\n",
    "my_teeth = 'White'\n",
    "my_hair = 'Grey'\n",
    "\n",
    "print \"Let's talk about %s.\" % my_name\n",
    "print \"He's %d cm tall.\" % my_height\n",
    "print \"He's %d kg heavy.\" % my_weight\n",
    "print \"Actually that's not too heavy.\"\n",
    "print \"He's got %s eyes and %s hair.\" % (my_eyes, my_hair)\n",
    "print \"His teeth are usually %s depending on the coffee.\" % my_teeth\n",
    "\n",
    "# this line is tricky, try to get it exactly right\n",
    "print \"If I add %d, %d, and %d I get %d.\" % (\n",
    "    my_age, my_height, my_weight, my_age + my_height + my_weight)"
   ]
  },
  {
   "cell_type": "code",
   "execution_count": null,
   "metadata": {
    "collapsed": true
   },
   "outputs": [],
   "source": []
  }
 ],
 "metadata": {
  "kernelspec": {
   "display_name": "Python 2",
   "language": "python",
   "name": "python2"
  },
  "language_info": {
   "codemirror_mode": {
    "name": "ipython",
    "version": 2
   },
   "file_extension": ".py",
   "mimetype": "text/x-python",
   "name": "python",
   "nbconvert_exporter": "python",
   "pygments_lexer": "ipython2",
   "version": "2.7.6"
  }
 },
 "nbformat": 4,
 "nbformat_minor": 1
}
